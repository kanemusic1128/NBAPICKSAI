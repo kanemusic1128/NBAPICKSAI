{
  "nbformat": 4,
  "nbformat_minor": 0,
  "metadata": {
    "colab": {
      "provenance": [],
      "authorship_tag": "ABX9TyMTaYuP8TX7CXMMyZiH/FqQ",
      "include_colab_link": true
    },
    "kernelspec": {
      "name": "python3",
      "display_name": "Python 3"
    },
    "language_info": {
      "name": "python"
    }
  },
  "cells": [
    {
      "cell_type": "markdown",
      "metadata": {
        "id": "view-in-github",
        "colab_type": "text"
      },
      "source": [
        "<a href=\"https://colab.research.google.com/github/kanemusic1128/NBAPICKSAI/blob/main/Untitled0.ipynb\" target=\"_parent\"><img src=\"https://colab.research.google.com/assets/colab-badge.svg\" alt=\"Open In Colab\"/></a>"
      ]
    },
    {
      "cell_type": "code",
      "execution_count": 1,
      "metadata": {
        "colab": {
          "base_uri": "https://localhost:8080/"
        },
        "id": "-A4LnZVFrkR6",
        "outputId": "5ece1f18-c417-4f55-b7af-e7537dc7b97c"
      },
      "outputs": [
        {
          "output_type": "stream",
          "name": "stdout",
          "text": [
            "['.config', 'ColabNotebook.ipynb', 'Odds-Data', 'NBA-Machine-Learning-Sports-Betting', 'requirements.txt', 'Models', 'Datasets', 'Flask', 'Screenshots', 'Data', 'src', 'Tests', 'notes.txt', 'Team-Data', 'main.py', 'Logs', 'Personal_Tests', 'README.md']\n",
            "Successful Bootstrap!!!\n"
          ]
        }
      ],
      "source": [
        "!sudo apt update\n",
        "!sudo apt install libnvinfer7\n",
        "!sudo apt install libnvinfer-plugin7\n",
        "\n",
        "#Remove Preexisting Files\n",
        "! rm -rf NBA-Machine-Learning-Sports-Betting\n",
        "! rm -rf *\n",
        "\n",
        "#Bootstrap Files\n",
        "! git clone https://github.com/kyleskom/NBA-Machine-Learning-Sports-Betting.git\n",
        "! mv -v ./NBA-Machine-Learning-Sports-Betting/* .\n",
        "! pip3 install -r requirements.txt\n",
        "\n",
        "#Clear Bootstrap Logs\n",
        "from IPython.display import clear_output \n",
        "clear_output()\n",
        "\n",
        "# Check the list of files in the current directory\n",
        "import os\n",
        "print(os.listdir())\n",
        "\n",
        "print(\"Successful Bootstrap!!!\")"
      ]
    },
    {
      "cell_type": "code",
      "source": [
        "!python3 main.py -A -odds=fanduel"
      ],
      "metadata": {
        "colab": {
          "base_uri": "https://localhost:8080/"
        },
        "id": "j4h-_30qroBt",
        "outputId": "ac4d1f70-9d90-4888-dbe5-005556d11592"
      },
      "execution_count": 2,
      "outputs": [
        {
          "output_type": "stream",
          "name": "stdout",
          "text": [
            "2023-03-22 18:58:19.433361: I tensorflow/core/platform/cpu_feature_guard.cc:193] This TensorFlow binary is optimized with oneAPI Deep Neural Network Library (oneDNN) to use the following CPU instructions in performance-critical operations:  AVX2 FMA\n",
            "To enable them in other operations, rebuild TensorFlow with the appropriate compiler flags.\n",
            "2023-03-22 18:58:21.976767: W tensorflow/compiler/xla/stream_executor/platform/default/dso_loader.cc:64] Could not load dynamic library 'libnvinfer.so.7'; dlerror: libnvinfer.so.7: cannot open shared object file: No such file or directory; LD_LIBRARY_PATH: /usr/local/nvidia/lib:/usr/local/nvidia/lib64\n",
            "2023-03-22 18:58:21.976946: W tensorflow/compiler/xla/stream_executor/platform/default/dso_loader.cc:64] Could not load dynamic library 'libnvinfer_plugin.so.7'; dlerror: libnvinfer_plugin.so.7: cannot open shared object file: No such file or directory; LD_LIBRARY_PATH: /usr/local/nvidia/lib:/usr/local/nvidia/lib64\n",
            "2023-03-22 18:58:21.976977: W tensorflow/compiler/tf2tensorrt/utils/py_utils.cc:38] TF-TRT Warning: Cannot dlopen some TensorRT libraries. If you would like to use Nvidia GPU with TensorRT, please make sure the missing libraries mentioned above are installed properly.\n",
            "2023-03-22 18:58:24.849298: E tensorflow/compiler/xla/stream_executor/cuda/cuda_driver.cc:267] failed call to cuInit: CUDA_ERROR_NO_DEVICE: no CUDA-capable device is detected\n",
            "------------------fanduel odds data------------------\n",
            "Denver Nuggets (-320) @ Washington Wizards (260)\n",
            "New York Knicks (108) @ Miami Heat (-126)\n",
            "Indiana Pacers (320) @ Toronto Raptors (-405)\n",
            "Golden State Warriors (-112) @ Dallas Mavericks (-104)\n",
            "Philadelphia 76ers (-166) @ Chicago Bulls (140)\n",
            "Houston Rockets (610) @ Memphis Grizzlies (-900)\n",
            "San Antonio Spurs (980) @ Milwaukee Bucks (-1800)\n",
            "Atlanta Hawks (172) @ Minnesota Timberwolves (-205)\n",
            "Portland Trail Blazers (168) @ Utah Jazz (-200)\n",
            "Phoenix Suns (-116) @ Los Angeles Lakers (-102)\n",
            "---------------XGBoost Model Predictions---------------\n",
            "\u001b[31mWashington Wizards\u001b[0m vs \u001b[32mDenver Nuggets\u001b[0m\u001b[36m (64.3%)\u001b[0m: \u001b[35mUNDER \u001b[0m226.5\u001b[0m\u001b[36m (49.7%)\u001b[0m\n",
            "\u001b[31mMiami Heat\u001b[0m vs \u001b[32mNew York Knicks\u001b[0m\u001b[36m (50.7%)\u001b[0m: \u001b[34mOVER \u001b[0m224.5\u001b[0m\u001b[36m (58.7%)\u001b[0m\n",
            "\u001b[32mToronto Raptors\u001b[0m\u001b[36m (74.8%)\u001b[0m vs \u001b[31mIndiana Pacers\u001b[0m: \u001b[35mUNDER \u001b[0m234.5\u001b[0m\u001b[36m (54.6%)\u001b[0m\n",
            "\u001b[32mDallas Mavericks\u001b[0m\u001b[36m (60.6%)\u001b[0m vs \u001b[31mGolden State Warriors\u001b[0m: \u001b[34mOVER \u001b[0m236.5\u001b[0m\u001b[36m (79.8%)\u001b[0m\n",
            "\u001b[31mChicago Bulls\u001b[0m vs \u001b[32mPhiladelphia 76ers\u001b[0m\u001b[36m (52.6%)\u001b[0m: \u001b[35mUNDER \u001b[0m221.5\u001b[0m\u001b[36m (51.0%)\u001b[0m\n",
            "\u001b[32mMemphis Grizzlies\u001b[0m\u001b[36m (84.9%)\u001b[0m vs \u001b[31mHouston Rockets\u001b[0m: \u001b[34mOVER \u001b[0m231.5\u001b[0m\u001b[36m (50.2%)\u001b[0m\n",
            "\u001b[32mMilwaukee Bucks\u001b[0m\u001b[36m (85.1%)\u001b[0m vs \u001b[31mSan Antonio Spurs\u001b[0m: \u001b[35mUNDER \u001b[0m238\u001b[0m\u001b[36m (51.6%)\u001b[0m\n",
            "\u001b[32mMinnesota Timberwolves\u001b[0m\u001b[36m (53.6%)\u001b[0m vs \u001b[31mAtlanta Hawks\u001b[0m: \u001b[34mOVER \u001b[0m241\u001b[0m\u001b[36m (52.6%)\u001b[0m\n",
            "\u001b[32mUtah Jazz\u001b[0m\u001b[36m (64.4%)\u001b[0m vs \u001b[31mPortland Trail Blazers\u001b[0m: \u001b[35mUNDER \u001b[0m235\u001b[0m\u001b[36m (74.5%)\u001b[0m\n",
            "\u001b[31mLos Angeles Lakers\u001b[0m vs \u001b[32mPhoenix Suns\u001b[0m\u001b[36m (50.6%)\u001b[0m: \u001b[35mUNDER \u001b[0m229.5\u001b[0m\u001b[36m (63.7%)\u001b[0m\n",
            "--------------------Expected Value---------------------\n",
            "Washington Wizards EV: \u001b[32m28.5\u001b[0m\n",
            "Denver Nuggets EV: \u001b[31m-15.6\u001b[0m\n",
            "Miami Heat EV: \u001b[31m-11.64\u001b[0m\n",
            "New York Knicks EV: \u001b[32m5.54\u001b[0m\n",
            "Toronto Raptors EV: \u001b[31m-6.76\u001b[0m\n",
            "Indiana Pacers EV: \u001b[32m5.95\u001b[0m\n",
            "Dallas Mavericks EV: \u001b[32m18.92\u001b[0m\n",
            "Golden State Warriors EV: \u001b[31m-25.47\u001b[0m\n",
            "Chicago Bulls EV: \u001b[32m13.74\u001b[0m\n",
            "Philadelphia 76ers EV: \u001b[31m-15.7\u001b[0m\n",
            "Memphis Grizzlies EV: \u001b[31m-5.65\u001b[0m\n",
            "Houston Rockets EV: \u001b[32m7.12\u001b[0m\n",
            "Milwaukee Bucks EV: \u001b[31m-10.18\u001b[0m\n",
            "San Antonio Spurs EV: \u001b[32m60.98\u001b[0m\n",
            "Minnesota Timberwolves EV: \u001b[31m-20.23\u001b[0m\n",
            "Atlanta Hawks EV: \u001b[32m26.16\u001b[0m\n",
            "Utah Jazz EV: \u001b[31m-3.33\u001b[0m\n",
            "Portland Trail Blazers EV: \u001b[31m-4.71\u001b[0m\n",
            "Los Angeles Lakers EV: \u001b[31m-2.18\u001b[0m\n",
            "Phoenix Suns EV: \u001b[31m-5.77\u001b[0m\n",
            "-------------------------------------------------------\n",
            "------------Neural Network Model Predictions-----------\n",
            "1/1 [==============================] - 0s 276ms/step\n",
            "1/1 [==============================] - 0s 29ms/step\n",
            "1/1 [==============================] - 0s 22ms/step\n",
            "1/1 [==============================] - 0s 22ms/step\n",
            "1/1 [==============================] - 0s 25ms/step\n",
            "1/1 [==============================] - 0s 22ms/step\n",
            "1/1 [==============================] - 0s 23ms/step\n",
            "1/1 [==============================] - 0s 22ms/step\n",
            "1/1 [==============================] - 0s 22ms/step\n",
            "1/1 [==============================] - 0s 22ms/step\n",
            "1/1 [==============================] - 0s 59ms/step\n",
            "1/1 [==============================] - 0s 21ms/step\n",
            "1/1 [==============================] - 0s 21ms/step\n",
            "1/1 [==============================] - 0s 28ms/step\n",
            "1/1 [==============================] - 0s 23ms/step\n",
            "1/1 [==============================] - 0s 22ms/step\n",
            "1/1 [==============================] - 0s 22ms/step\n",
            "1/1 [==============================] - 0s 21ms/step\n",
            "1/1 [==============================] - 0s 21ms/step\n",
            "1/1 [==============================] - 0s 22ms/step\n",
            "\u001b[31mWashington Wizards\u001b[0m vs \u001b[32mDenver Nuggets\u001b[0m\u001b[36m (61.8%)\u001b[0m: \u001b[34mOVER \u001b[0m226.5\u001b[0m\u001b[36m (49.8%)\u001b[0m\n",
            "\u001b[32mMiami Heat\u001b[0m\u001b[36m (52.1%)\u001b[0m vs \u001b[31mNew York Knicks\u001b[0m: \u001b[34mOVER \u001b[0m224.5\u001b[0m\u001b[36m (51.5%)\u001b[0m\n",
            "\u001b[32mToronto Raptors\u001b[0m\u001b[36m (60.9%)\u001b[0m vs \u001b[31mIndiana Pacers\u001b[0m: \u001b[34mOVER \u001b[0m234.5\u001b[0m\u001b[36m (50.8%)\u001b[0m\n",
            "\u001b[32mDallas Mavericks\u001b[0m\u001b[36m (54.5%)\u001b[0m vs \u001b[31mGolden State Warriors\u001b[0m: \u001b[34mOVER \u001b[0m236.5\u001b[0m\u001b[36m (50.8%)\u001b[0m\n",
            "\u001b[31mChicago Bulls\u001b[0m vs \u001b[32mPhiladelphia 76ers\u001b[0m\u001b[36m (61.1%)\u001b[0m: \u001b[35mUNDER \u001b[0m221.5\u001b[0m\u001b[36m (53.1%)\u001b[0m\n",
            "\u001b[32mMemphis Grizzlies\u001b[0m\u001b[36m (82.3%)\u001b[0m vs \u001b[31mHouston Rockets\u001b[0m: \u001b[34mOVER \u001b[0m231.5\u001b[0m\u001b[36m (53.0%)\u001b[0m\n",
            "\u001b[32mMilwaukee Bucks\u001b[0m\u001b[36m (84.1%)\u001b[0m vs \u001b[31mSan Antonio Spurs\u001b[0m: \u001b[34mOVER \u001b[0m238\u001b[0m\u001b[36m (53.3%)\u001b[0m\n",
            "\u001b[32mMinnesota Timberwolves\u001b[0m\u001b[36m (58.5%)\u001b[0m vs \u001b[31mAtlanta Hawks\u001b[0m: \u001b[35mUNDER \u001b[0m241\u001b[0m\u001b[36m (51.0%)\u001b[0m\n",
            "\u001b[32mUtah Jazz\u001b[0m\u001b[36m (61.5%)\u001b[0m vs \u001b[31mPortland Trail Blazers\u001b[0m: \u001b[35mUNDER \u001b[0m235\u001b[0m\u001b[36m (51.1%)\u001b[0m\n",
            "\u001b[31mLos Angeles Lakers\u001b[0m vs \u001b[32mPhoenix Suns\u001b[0m\u001b[36m (52.6%)\u001b[0m: \u001b[34mOVER \u001b[0m229.5\u001b[0m\u001b[36m (50.6%)\u001b[0m\n",
            "--------------------Expected Value---------------------\n",
            "Washington Wizards EV: \u001b[32m37.5\u001b[0m\n",
            "Denver Nuggets EV: \u001b[31m-18.88\u001b[0m\n",
            "Miami Heat EV: \u001b[31m-6.51\u001b[0m\n",
            "New York Knicks EV: \u001b[31m-0.41\u001b[0m\n",
            "Toronto Raptors EV: \u001b[31m-24.04\u001b[0m\n",
            "Indiana Pacers EV: \u001b[32m64.13\u001b[0m\n",
            "Dallas Mavericks EV: \u001b[32m6.86\u001b[0m\n",
            "Golden State Warriors EV: \u001b[31m-13.84\u001b[0m\n",
            "Chicago Bulls EV: \u001b[31m-6.74\u001b[0m\n",
            "Philadelphia 76ers EV: \u001b[31m-2.03\u001b[0m\n",
            "Memphis Grizzlies EV: \u001b[31m-8.61\u001b[0m\n",
            "Houston Rockets EV: \u001b[32m26.01\u001b[0m\n",
            "Milwaukee Bucks EV: \u001b[31m-11.25\u001b[0m\n",
            "San Antonio Spurs EV: \u001b[32m71.93\u001b[0m\n",
            "Minnesota Timberwolves EV: \u001b[31m-12.93\u001b[0m\n",
            "Atlanta Hawks EV: \u001b[32m12.82\u001b[0m\n",
            "Utah Jazz EV: \u001b[31m-7.71\u001b[0m\n",
            "Portland Trail Blazers EV: \u001b[32m3.11\u001b[0m\n",
            "Los Angeles Lakers EV: \u001b[31m-6.11\u001b[0m\n",
            "Phoenix Suns EV: \u001b[31m-2.07\u001b[0m\n",
            "-------------------------------------------------------\n",
            "\u001b[0m"
          ]
        }
      ]
    }
  ]
}